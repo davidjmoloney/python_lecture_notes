{
 "cells": [
  {
   "cell_type": "markdown",
   "metadata": {},
   "source": [
    "# if, elif, else statements"
   ]
  },
  {
   "cell_type": "code",
   "execution_count": 4,
   "metadata": {},
   "outputs": [
    {
     "name": "stdout",
     "output_type": "stream",
     "text": [
      "here is some toast\n"
     ]
    }
   ],
   "source": [
    "food = \"toast\"\n",
    "\n",
    "if food == \"apple\":\n",
    "    print('here is an apple')\n",
    "elif food == \"toast\":\n",
    "    print(\"here is some toast\")\n",
    "else:\n",
    "    print(\"What would you like?\")"
   ]
  },
  {
   "cell_type": "markdown",
   "metadata": {},
   "source": [
    "# for loops"
   ]
  },
  {
   "cell_type": "code",
   "execution_count": 6,
   "metadata": {},
   "outputs": [],
   "source": [
    "mylist  = [1,2,3,4,5,6,7,8]  # list/tuples/strings/dicts can be used here"
   ]
  },
  {
   "cell_type": "code",
   "execution_count": 7,
   "metadata": {},
   "outputs": [
    {
     "name": "stdout",
     "output_type": "stream",
     "text": [
      "1\n",
      "2\n",
      "3\n",
      "4\n",
      "5\n",
      "6\n",
      "7\n",
      "8\n"
     ]
    }
   ],
   "source": [
    "#in py we use for and in syntax. i is an identifier for objects in mylist - this can be anything\n",
    "for i in mylist:\n",
    "    print(i)"
   ]
  },
  {
   "cell_type": "code",
   "execution_count": 16,
   "metadata": {},
   "outputs": [
    {
     "data": {
      "text/plain": [
       "4"
      ]
     },
     "execution_count": 16,
     "metadata": {},
     "output_type": "execute_result"
    }
   ],
   "source": [
    "# a note on tuples\n",
    "\n",
    "mylist2 = [(1,2), (3,4), (5,6), (7,8)]\n",
    "len(mylist2)"
   ]
  },
  {
   "cell_type": "code",
   "execution_count": 17,
   "metadata": {},
   "outputs": [
    {
     "name": "stdout",
     "output_type": "stream",
     "text": [
      "(1, 2)\n",
      "(3, 4)\n",
      "(5, 6)\n",
      "(7, 8)\n"
     ]
    }
   ],
   "source": [
    "#in this example each part of the list is printed out - each part is itself a tuple\n",
    "for tup in mylist2:\n",
    "    print(tup)"
   ]
  },
  {
   "cell_type": "code",
   "execution_count": 19,
   "metadata": {},
   "outputs": [
    {
     "name": "stdout",
     "output_type": "stream",
     "text": [
      "1\n",
      "2\n",
      "3\n",
      "4\n",
      "5\n",
      "6\n",
      "7\n",
      "8\n"
     ]
    }
   ],
   "source": [
    "#tuple unpacking\n",
    "#now the identifier used is in tuple syntax  and we have 2 variables to use at each part\n",
    "\n",
    "for a,b in mylist2:\n",
    "    print(a)\n",
    "    print(b)\n"
   ]
  },
  {
   "cell_type": "code",
   "execution_count": 20,
   "metadata": {},
   "outputs": [
    {
     "name": "stdout",
     "output_type": "stream",
     "text": [
      "k1\n",
      "k2\n",
      "k3\n"
     ]
    }
   ],
   "source": [
    "#dictionaries can also be used but order can not be relied upon\n",
    "\n",
    "d = {'k1':1, 'k2':2, 'k3':3}\n",
    "\n",
    "#this format only gives the dict keys\n",
    "for item in d:\n",
    "    print(item)"
   ]
  },
  {
   "cell_type": "code",
   "execution_count": 22,
   "metadata": {},
   "outputs": [
    {
     "name": "stdout",
     "output_type": "stream",
     "text": [
      "('k1', 1)\n",
      "('k2', 2)\n",
      "('k3', 3)\n"
     ]
    }
   ],
   "source": [
    "#items operator to access key-val pairs\n",
    "\n",
    "for item in d.items():\n",
    "    print(item)"
   ]
  },
  {
   "cell_type": "code",
   "execution_count": 24,
   "metadata": {},
   "outputs": [
    {
     "name": "stdout",
     "output_type": "stream",
     "text": [
      "k1 ----> 1\n",
      "k2 ----> 2\n",
      "k3 ----> 3\n"
     ]
    }
   ],
   "source": [
    "#Can then use tuple unpacking with this\n",
    "\n",
    "for key,val in d.items():\n",
    "    print(f\"{key} ----> {val}\")"
   ]
  },
  {
   "cell_type": "markdown",
   "metadata": {},
   "source": [
    "# While loops"
   ]
  },
  {
   "cell_type": "code",
   "execution_count": 27,
   "metadata": {},
   "outputs": [
    {
     "name": "stdout",
     "output_type": "stream",
     "text": [
      "x is 0\n",
      "x is 1\n",
      "x is 2\n",
      "x is 3\n",
      "x is 4\n",
      "x is greater than 4\n"
     ]
    }
   ],
   "source": [
    "#these can be used with else states\n",
    "\n",
    "x = 0\n",
    "\n",
    "while(x < 5):\n",
    "    print(f\"x is {x}\")\n",
    "    x += 1\n",
    "else:\n",
    "    print(\"x is greater than 4\")"
   ]
  },
  {
   "cell_type": "markdown",
   "metadata": {},
   "source": [
    "# Breakpoints\n",
    "- Pass - used to do nothing in a loop\n",
    "- continue - goes to top of closest enclosing loop\n",
    "- break - breaks out of current closest enclosing loop"
   ]
  },
  {
   "cell_type": "code",
   "execution_count": 29,
   "metadata": {},
   "outputs": [],
   "source": [
    "x = \"1234\"\n",
    "\n",
    "for c in x:\n",
    "    pass  #this will fail to execute if this is not included here - more of placeholder for python"
   ]
  },
  {
   "cell_type": "code",
   "execution_count": 32,
   "metadata": {},
   "outputs": [
    {
     "name": "stdout",
     "output_type": "stream",
     "text": [
      "1\n",
      "3\n",
      "4\n"
     ]
    }
   ],
   "source": [
    "# continue can be used if you want to skip operation on an item\n",
    "\n",
    "for c in x:\n",
    "    if c == '2':\n",
    "        continue #here continue tells loop to jump back to beginning and so does not print '2'\n",
    "    print(c)"
   ]
  },
  {
   "cell_type": "code",
   "execution_count": 33,
   "metadata": {},
   "outputs": [
    {
     "name": "stdout",
     "output_type": "stream",
     "text": [
      "1\n"
     ]
    }
   ],
   "source": [
    "# we will stop executing the loop when break is met\n",
    "\n",
    "for c in x:\n",
    "    if c == '2':\n",
    "        break \n",
    "    \n",
    "    print(c)"
   ]
  },
  {
   "cell_type": "code",
   "execution_count": 34,
   "metadata": {},
   "outputs": [
    {
     "name": "stdout",
     "output_type": "stream",
     "text": [
      "x is 0\n",
      "x is 1\n"
     ]
    }
   ],
   "source": [
    "#these can also be used in while loops\n",
    "x = 0\n",
    "\n",
    "while(x < 5):\n",
    "    if x == 2:\n",
    "        break #stops while loop when x is 2\n",
    "    \n",
    "    print(f\"x is {x}\")\n",
    "    x += 1\n",
    "    "
   ]
  },
  {
   "cell_type": "code",
   "execution_count": null,
   "metadata": {},
   "outputs": [],
   "source": []
  }
 ],
 "metadata": {
  "kernelspec": {
   "display_name": "Python 3",
   "language": "python",
   "name": "python3"
  },
  "language_info": {
   "codemirror_mode": {
    "name": "ipython",
    "version": 3
   },
   "file_extension": ".py",
   "mimetype": "text/x-python",
   "name": "python",
   "nbconvert_exporter": "python",
   "pygments_lexer": "ipython3",
   "version": "3.8.5"
  }
 },
 "nbformat": 4,
 "nbformat_minor": 4
}
