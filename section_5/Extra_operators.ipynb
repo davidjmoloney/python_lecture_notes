{
 "cells": [
  {
   "cell_type": "markdown",
   "metadata": {},
   "source": [
    "# Range"
   ]
  },
  {
   "cell_type": "code",
   "execution_count": 3,
   "metadata": {},
   "outputs": [
    {
     "data": {
      "text/plain": [
       "[0, 2, 4, 6, 8, 10]"
      ]
     },
     "execution_count": 3,
     "metadata": {},
     "output_type": "execute_result"
    }
   ],
   "source": [
    "#range operator will generate a list of int between certain values and will \n",
    "\n",
    "mylist = list(range(0,11,2))\n",
    "mylist"
   ]
  },
  {
   "cell_type": "code",
   "execution_count": 6,
   "metadata": {},
   "outputs": [
    {
     "name": "stdout",
     "output_type": "stream",
     "text": [
      "0\n",
      "3\n",
      "6\n",
      "9\n"
     ]
    }
   ],
   "source": [
    "# this can be used to generate a list for a loop\n",
    "\n",
    "for num in range(0, 12, 3):\n",
    "    print(num)"
   ]
  },
  {
   "cell_type": "markdown",
   "metadata": {},
   "source": [
    "# Enumerate"
   ]
  },
  {
   "cell_type": "code",
   "execution_count": 9,
   "metadata": {},
   "outputs": [
    {
     "data": {
      "text/plain": [
       "[(0, 'w'), (1, 'o'), (2, 'r'), (3, 'd')]"
      ]
     },
     "execution_count": 9,
     "metadata": {},
     "output_type": "execute_result"
    }
   ],
   "source": [
    "# enumerate function will create a list of tuple pairs based on parts of list(or other indexed object)\n",
    "\n",
    "tup = list(enumerate(\"word\"))\n",
    "tup"
   ]
  },
  {
   "cell_type": "code",
   "execution_count": 14,
   "metadata": {},
   "outputs": [
    {
     "name": "stdout",
     "output_type": "stream",
     "text": [
      "0 ---> a\n",
      "1 ---> b\n",
      "2 ---> c\n",
      "3 ---> d\n",
      "4 ---> e\n",
      "5 ---> f\n"
     ]
    }
   ],
   "source": [
    "# useful when we want to use indexing in for loops etc.\n",
    "\n",
    "word = 'abcdef'\n",
    "\n",
    "for index,letter in enumerate(word):\n",
    "    print(f\"{index} ---> {letter}\")"
   ]
  },
  {
   "cell_type": "markdown",
   "metadata": {},
   "source": [
    "# Zip\n",
    "- Provides a similar function to enumerate\n",
    "- zips two/more lists together up until shortest list"
   ]
  },
  {
   "cell_type": "code",
   "execution_count": 2,
   "metadata": {},
   "outputs": [
    {
     "name": "stdout",
     "output_type": "stream",
     "text": [
      "('a', 1, 100)\n",
      "('b', 2, 3292)\n",
      "('c', 3, -189743)\n"
     ]
    }
   ],
   "source": [
    "list1 = ('a', 'b', 'c', 'd', 'e') #note that this list is longer\n",
    "list2 = (1, 2, 3)\n",
    "list3 = (100, 3292, -189743)\n",
    "\n",
    "for item in zip(list1, list2, list3):\n",
    "    print(item)"
   ]
  },
  {
   "cell_type": "code",
   "execution_count": null,
   "metadata": {},
   "outputs": [],
   "source": []
  }
 ],
 "metadata": {
  "kernelspec": {
   "display_name": "Python 3",
   "language": "python",
   "name": "python3"
  },
  "language_info": {
   "codemirror_mode": {
    "name": "ipython",
    "version": 3
   },
   "file_extension": ".py",
   "mimetype": "text/x-python",
   "name": "python",
   "nbconvert_exporter": "python",
   "pygments_lexer": "ipython3",
   "version": "3.8.5"
  }
 },
 "nbformat": 4,
 "nbformat_minor": 4
}
